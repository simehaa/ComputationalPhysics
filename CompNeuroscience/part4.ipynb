{
 "cells": [
  {
   "cell_type": "markdown",
   "metadata": {},
   "source": [
    "# Part 4, Synapses\n",
    "1. AP arrives in axon terminal\n",
    "2. Membrane opens and allows Calcium ions to flow in\n",
    "3. $Ca^{2+}$ binds to packages of neurotransmitter molecules (synaptic vesicles)\n",
    "4. These vesicles fuse with the cell membrane at the axon terminal and empty their contents into to synaptic cleft\n",
    "5. Pieces of axon terminal membrane cycke back into the soma as new vesicles to be refilled with neurotransmitter molecules."
   ]
  },
  {
   "cell_type": "markdown",
   "metadata": {},
   "source": [
    "* Two types of neurons\n",
    "    1. Excitatory neurons (glutamite, acetylcholine, ...)\n",
    "    2. Inhibitory neurons (BABA, ...)\n",
    "* Different neurotransmitters\n",
    "* Different receptors\n",
    "    1. Glutamite (AMPA, NMDA, ...)\n",
    "    2. GABA (GABA$_A$, GABA$_B$, ...)"
   ]
  },
  {
   "cell_type": "markdown",
   "metadata": {},
   "source": [
    "## 4.1 Chemical Synapses, Postsynaptic Response (Sterratt 7.2)\n",
    "* Electrical response in postsynaptic cell in *chemical* synapse:\n",
    "$$ I_{syn}(t) = g_{syn}(t) (V(t) - E_{syn})$$\n",
    "$$t \\geq t_s$$\n",
    "where $t_s$ is the time of arriving spike\n",
    "* Typical choices for $g_{syn}(t)$:\n",
    "     1. Exponential decay: $g_{syn}(t) = \\bar{g}_{syn} e^{-(t-t_s)/\\tau}\\theta (t-t_s)$ with $\\theta$ being the Heaviside step function ($\\theta(t\\geq 0) = 1$ and $\\theta (t < 0) = 0$)\n",
    "     2. $\\alpha$ function: $g_{syn}(t) = \\bar{g}_{syn} \\frac{t-t_s}{\\tau} e^{-(t-t_s)/\\tau}\\theta (t-t_s)$\n",
    "     3. $\\beta$ function: $g_{syn}(t) = \\bar{g}_{syn} \\frac{\\tau_1 \\tau_2}{\\tau_1 - \\tau_2} \\left(e^{-(t-t_s)/\\tau_1} - e^{-(t-t_s)/\\tau_2} \\right) \\theta (t-t_s)$\n",
    "     \n",
    "* Response to a train of incoming spikes at same synapse (assuming $\\alpha$ function synapse):\n",
    "\n",
    "<center>\n",
    "    <div class=\"alert alert-block alert-info\">\n",
    "    \\begin{align}\n",
    "        g_{syn}(t) = \\sum_{i=1}^n \\bar{g}_{syn} \\frac{t-t_i}{\\tau}e^{-(t-t_i)/\\tau}\\theta (t-t_i)\n",
    "    \\end{align}\n",
    "    </div>\n",
    "</center>\n",
    "\n",
    "* Simple waveforms (exp. decay, $\\alpha/\\beta$-functions) typically used for AMPA and GABA receptors\n",
    "* For NMDA receptors, the conductance is influenced by membrane voltage and concentration of extracellular magnesium:\n",
    "$$ g_{NMDA}(t) = \\bar{g}_{sym} \\frac{e^{-(t-t_s)/\\tau_1} - e^{-(t-t_s)/\\tau_2}}{1 + \\mu \\left[\\text{Mg}^{2+}\\right]e^{-\\gamma V}} \\theta (t-t_s)$$\n",
    "\n",
    "$$I_{syn} = g_{syn} (t) (V-E_s)$$\n",
    "\n",
    "where $E_s$ is:\n",
    "1. $0 mV$ for AMPA and NMDA\n",
    "2. $-[70,80] mV$ for GABA receptors"
   ]
  },
  {
   "cell_type": "markdown",
   "metadata": {},
   "source": [
    "## 4.2 Chemical Synapses: Synaptic Plasticity\n",
    "* Magnitude of postsynaptic reponse depends on spiking history\n",
    "    * Synaptic <u>depression</u>: second postsynaptic current (PSC) is **smaller** than the first one\n",
    "    * Synaptic <u>facilitation</u>: second postsynaptic current (PSC) is **larger** than the first one\n",
    "* Plasticity may last for hours and days\n",
    "    * Long-term potentiation (LTP)\n",
    "    * Long-term depression (LTD)\n",
    "    \n",
    "$$\\Rightarrow \\text{ biological substitute for learning}$$\n",
    "* Spike-timing dependent plasticity\n",
    "    * $W_{ij}$: measure of strength of synaptic connection between $i$ and $j$\n",
    "    * The relative timing between pre- and postsynaptic spikes is useful for the dynamics of  $W_{ij}$\n",
    "    * $t_i = t_{pre}$: time of presynaptic spike\n",
    "    * $t_j = t_{post}$: time of postsynaptic spike\n",
    "    * $\\Delta t = t_j - t_i$\n",
    "    * Example rule:\n",
    "        * $\\Delta W_{ij} = + A_{LTP} e^{-\\Delta t/\\tau_{LTP}}$ if $\\Delta t > 0$\n",
    "        * $\\Delta W_{ij} =  - A_{LTD} e^{+\\Delta t/\\tau_{LTD}}$ if $\\Delta t < 0$"
   ]
  },
  {
   "cell_type": "markdown",
   "metadata": {},
   "source": [
    "## 4.3 Electrical Synapses: Gap Junctions (Sterratt 7.7)\n",
    "* Neurons may also be connected directly by <u>gap junctions</u>\n",
    "* Ohmic connections:\n",
    "$$I_1 = g_c (V_2 - V_1) = -I_2$$"
   ]
  }
 ],
 "metadata": {
  "kernelspec": {
   "display_name": "Python 3",
   "language": "python",
   "name": "python3"
  },
  "language_info": {
   "codemirror_mode": {
    "name": "ipython",
    "version": 3
   },
   "file_extension": ".py",
   "mimetype": "text/x-python",
   "name": "python",
   "nbconvert_exporter": "python",
   "pygments_lexer": "ipython3",
   "version": "3.7.3"
  }
 },
 "nbformat": 4,
 "nbformat_minor": 2
}
